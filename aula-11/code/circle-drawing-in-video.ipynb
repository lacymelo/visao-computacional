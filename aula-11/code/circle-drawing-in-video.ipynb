{
 "cells": [
  {
   "cell_type": "code",
   "execution_count": 1,
   "metadata": {},
   "outputs": [],
   "source": [
    "import cv2"
   ]
  },
  {
   "cell_type": "code",
   "execution_count": null,
   "metadata": {},
   "outputs": [],
   "source": [
    "# função que apresenta o círculo\n",
    "def circleDrawing(event, x, y, flags, param):\n",
    "    # declarando variáveis globais\n",
    "    global center, click\n",
    "\n",
    "    # condicionais que verificam o click do mouse\n",
    "\n",
    "    if event == cv2.EVENT_LBUTTONDOWN:\n",
    "        center = (x,y)\n",
    "        click = False\n",
    "\n",
    "\n",
    "    if event == cv2.EVENT_LBUTTONUP:\n",
    "        click = True\n",
    "\n",
    "# atribuição de valores\n",
    "center = (0,0)\n",
    "click = False\n",
    "\n",
    "# captura do vide\n",
    "capture = cv2.VideoCapture(0)\n",
    "\n",
    "# criar uma janela para o video\n",
    "cv2.namedWindow('window')\n",
    "\n",
    "# adiciona o evento de chamada da função de criar círculo na janela de vídeo\n",
    "cv2.setMouseCallback('window', circleDrawing)\n",
    "\n",
    "\n",
    "while True:\n",
    "    # leitura da captura, e recuperação do frame e ret que recebe um boolean que indica se deu certo\n",
    "    ret, frame = capture.read()\n",
    "\n",
    "    # verifica se algo foi clicado\n",
    "    if click:\n",
    "        # desenha o círculo\n",
    "        cv2.circle(frame, center=center, radius=80, color=(0,255,0), thickness=10)\n",
    "\n",
    "    # apresentar o frame resultante\n",
    "    cv2.imshow('window', frame)\n",
    "\n",
    "    # comando de parada da rotina\n",
    "    if(cv2.waitKey(1) & 0XFF == 27):\n",
    "        break\n",
    "\n",
    "# comanda para encerrar o uso da câmera\n",
    "capture.release()\n",
    "\n",
    "# comando para destruí a janela\n",
    "cv2.destroyAllWindows()\n",
    "\n",
    "\n",
    "\n",
    "\n",
    "\n"
   ]
  }
 ],
 "metadata": {
  "kernelspec": {
   "display_name": "virtual-environment",
   "language": "python",
   "name": "virtual-environment"
  },
  "language_info": {
   "codemirror_mode": {
    "name": "ipython",
    "version": 3
   },
   "file_extension": ".py",
   "mimetype": "text/x-python",
   "name": "python",
   "nbconvert_exporter": "python",
   "pygments_lexer": "ipython3",
   "version": "3.11.4"
  },
  "orig_nbformat": 4
 },
 "nbformat": 4,
 "nbformat_minor": 2
}
