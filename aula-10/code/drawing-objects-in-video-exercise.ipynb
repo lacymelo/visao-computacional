{
 "cells": [
  {
   "cell_type": "code",
   "execution_count": 2,
   "metadata": {},
   "outputs": [],
   "source": [
    "import cv2"
   ]
  },
  {
   "cell_type": "code",
   "execution_count": 3,
   "metadata": {},
   "outputs": [],
   "source": [
    "# função para desenhar retângulo no vídeo\n",
    "def drawingRectangle(event, x, y, flags, params):\n",
    "     global pt1, pt2, topo, base\n",
    "\n",
    "     if(event == cv2.EVENT_LBUTTONDOWN):\n",
    "        # apagar o retângulo que estará sendo apresentado na tela\n",
    "        if topo == True & base == True:\n",
    "            pt1=(0,0)\n",
    "            pt2=(0,0)\n",
    "            topo=False\n",
    "            base=False\n",
    "\n",
    "        if topo == False: \n",
    "            pt1 = (x,y)\n",
    "            topo = True\n",
    "        elif base == False:\n",
    "            pt2 = (x,y)\n",
    "            base = True\n",
    "\n",
    "\n",
    "# variáveis Globais\n",
    "pt2 = (0,0)\n",
    "topo = False\n",
    "base = False\n",
    "\n",
    " "
   ]
  },
  {
   "cell_type": "code",
   "execution_count": 4,
   "metadata": {},
   "outputs": [],
   "source": [
    "# capturando imagem da câmera\n",
    "video = cv2.VideoCapture(0)\n",
    "\n",
    "# Cria uma janela para exibir o video\n",
    "cv2.namedWindow('frame')\n",
    "# Associa a função de callback à janela\n",
    "cv2.setMouseCallback('frame', drawingRectangle)\n",
    "\n",
    "while True:\n",
    "    # fazendo a leitura do vídeo e recuperando os parâmetros frame e o boolean ret\n",
    "    ret, frame = video.read()\n",
    "\n",
    "    # desenhar no frame\n",
    "    if topo:\n",
    "        cv2.circle(frame, center=pt1, radius=3, color=(0,255,0), thickness=-1)\n",
    "    \n",
    "    if topo & base:\n",
    "        cv2.rectangle(frame, pt1=pt1, pt2=pt2, color=(0,0,0), thickness=6)\n",
    "  \n",
    "    # mostrando o frame\n",
    "    cv2.imshow('frame', frame)\n",
    "\n",
    "    # para a exibição quando é clicado na tela esc\n",
    "    if cv2.waitKey(1) & 0xFF == 27:\n",
    "        break\n",
    "\n",
    "\n",
    "# liberando a câmera após a captura\n",
    "video.release()\n",
    "\n",
    "# destrói a tela\n",
    "cv2.destroyAllWindows()"
   ]
  }
 ],
 "metadata": {
  "kernelspec": {
   "display_name": "virtual-environment",
   "language": "python",
   "name": "virtual-environment"
  },
  "language_info": {
   "codemirror_mode": {
    "name": "ipython",
    "version": 3
   },
   "file_extension": ".py",
   "mimetype": "text/x-python",
   "name": "python",
   "nbconvert_exporter": "python",
   "pygments_lexer": "ipython3",
   "version": "3.11.4"
  },
  "orig_nbformat": 4
 },
 "nbformat": 4,
 "nbformat_minor": 2
}
