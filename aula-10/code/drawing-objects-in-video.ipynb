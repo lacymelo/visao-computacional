{
 "cells": [
  {
   "cell_type": "code",
   "execution_count": 1,
   "metadata": {},
   "outputs": [],
   "source": [
    "import cv2"
   ]
  },
  {
   "cell_type": "code",
   "execution_count": 2,
   "metadata": {},
   "outputs": [],
   "source": [
    "# capturando imagem da câmera\n",
    "video = cv2.VideoCapture(0)\n",
    "\n",
    "# recuperando a largura do frame\n",
    "width = int(video.get(cv2.CAP_PROP_FRAME_WIDTH))\n",
    "length = int(video.get(cv2.CAP_PROP_FRAME_HEIGHT))\n",
    "\n",
    "# ponto Inicial\n",
    "x = 10\n",
    "y = 10\n",
    "\n",
    "# ponto Final \n",
    "x1 = width // 2\n",
    "y1 = length // 2\n",
    "\n",
    "while True:\n",
    "    # fazendo a leitura do vídeo e recuperando os parâmetros frame e o boolean ret\n",
    "    ret, frame = video.read()\n",
    "\n",
    "    # configurando o circulo\n",
    "    cv2.circle(frame, center=(x1, y1), radius=x + 1, color=(0,0,0), thickness=4)\n",
    "    cv2.rectangle(frame, pt1=(x,y), pt2=(x1, y1), color=(255,0,0), thickness=-1)\n",
    "\n",
    "    # mostrando o frame\n",
    "    cv2.imshow('frame', frame)\n",
    "\n",
    "    # para a exibição quando é clicado na tela esc\n",
    "    if cv2.waitKey(1) & 0xFF == 27:\n",
    "        break\n",
    "\n",
    "\n",
    "# liberando a câmera após a captura\n",
    "video.release()\n",
    "\n",
    "# destrói a tela\n",
    "cv2.destroyAllWindows()"
   ]
  }
 ],
 "metadata": {
  "kernelspec": {
   "display_name": "virtual-environment",
   "language": "python",
   "name": "virtual-environment"
  },
  "language_info": {
   "codemirror_mode": {
    "name": "ipython",
    "version": 3
   },
   "file_extension": ".py",
   "mimetype": "text/x-python",
   "name": "python",
   "nbconvert_exporter": "python",
   "pygments_lexer": "ipython3",
   "version": "3.11.4"
  },
  "orig_nbformat": 4
 },
 "nbformat": 4,
 "nbformat_minor": 2
}
