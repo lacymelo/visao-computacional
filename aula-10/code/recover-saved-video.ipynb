{
 "cells": [
  {
   "cell_type": "code",
   "execution_count": 1,
   "metadata": {},
   "outputs": [],
   "source": [
    "import cv2\n",
    "import time"
   ]
  },
  {
   "cell_type": "code",
   "execution_count": 4,
   "metadata": {},
   "outputs": [],
   "source": [
    "# capturando a imagem da câmera\n",
    "video = cv2.VideoCapture('../../save/video-gravado.mp4')\n",
    "\n",
    "# verificando se o video foi carregado\n",
    "if video.isOpened() == False:\n",
    "    print('Error loading video')\n",
    "\n",
    "\n",
    "while video.isOpened():\n",
    "\n",
    "    # fazendo a leitura do vídeo e recuperando os parâmetros frame e o boolean ret\n",
    "    ret, frame = video.read()\n",
    "\n",
    "    if ret == True:\n",
    "        # Frame por segundo, a cada 1s, serão exibidos 15 frames\n",
    "        time.sleep(1/15)\n",
    "\n",
    "        # mostrando o frame\n",
    "        cv2.imshow('frame', frame)\n",
    "\n",
    "        if cv2.waitKey(5) & 0XFF == 27:\n",
    "            break\n",
    "    else:\n",
    "        break\n",
    "\n",
    "# liberando a câmera\n",
    "video.release()\n",
    "\n",
    "# destruindo a janela\n",
    "cv2.destroyAllWindows()"
   ]
  }
 ],
 "metadata": {
  "kernelspec": {
   "display_name": "virtual-environment",
   "language": "python",
   "name": "virtual-environment"
  },
  "language_info": {
   "codemirror_mode": {
    "name": "ipython",
    "version": 3
   },
   "file_extension": ".py",
   "mimetype": "text/x-python",
   "name": "python",
   "nbconvert_exporter": "python",
   "pygments_lexer": "ipython3",
   "version": "3.11.4"
  },
  "orig_nbformat": 4
 },
 "nbformat": 4,
 "nbformat_minor": 2
}
