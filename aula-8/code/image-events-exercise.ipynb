{
 "cells": [
  {
   "cell_type": "code",
   "execution_count": 1,
   "metadata": {},
   "outputs": [],
   "source": [
    "import numpy as np\n",
    "import cv2"
   ]
  },
  {
   "cell_type": "code",
   "execution_count": 5,
   "metadata": {},
   "outputs": [
    {
     "ename": "KeyboardInterrupt",
     "evalue": "",
     "output_type": "error",
     "traceback": [
      "\u001b[0;31m---------------------------------------------------------------------------\u001b[0m",
      "\u001b[0;31mKeyboardInterrupt\u001b[0m                         Traceback (most recent call last)",
      "\u001b[1;32m/Users/lacienemelo/Documents/developed-software/visao-computacional/aula-8/code/image-events-exercise.ipynb Célula 2\u001b[0m line \u001b[0;36m3\n\u001b[1;32m     <a href='vscode-notebook-cell:/Users/lacienemelo/Documents/developed-software/visao-computacional/aula-8/code/image-events-exercise.ipynb#W1sZmlsZQ%3D%3D?line=31'>32</a>\u001b[0m \u001b[39mwhile\u001b[39;00m \u001b[39mTrue\u001b[39;00m:\n\u001b[1;32m     <a href='vscode-notebook-cell:/Users/lacienemelo/Documents/developed-software/visao-computacional/aula-8/code/image-events-exercise.ipynb#W1sZmlsZQ%3D%3D?line=33'>34</a>\u001b[0m     cv2\u001b[39m.\u001b[39mimshow(\u001b[39m'\u001b[39m\u001b[39mmyWindow\u001b[39m\u001b[39m'\u001b[39m, image)\n\u001b[0;32m---> <a href='vscode-notebook-cell:/Users/lacienemelo/Documents/developed-software/visao-computacional/aula-8/code/image-events-exercise.ipynb#W1sZmlsZQ%3D%3D?line=35'>36</a>\u001b[0m     \u001b[39mif\u001b[39;00m cv2\u001b[39m.\u001b[39;49mwaitKey(\u001b[39m20\u001b[39;49m) \u001b[39m&\u001b[39m \u001b[39m0xF\u001b[39m \u001b[39m==\u001b[39m \u001b[39m27\u001b[39m:\n\u001b[1;32m     <a href='vscode-notebook-cell:/Users/lacienemelo/Documents/developed-software/visao-computacional/aula-8/code/image-events-exercise.ipynb#W1sZmlsZQ%3D%3D?line=36'>37</a>\u001b[0m         \u001b[39mbreak\u001b[39;00m\n\u001b[1;32m     <a href='vscode-notebook-cell:/Users/lacienemelo/Documents/developed-software/visao-computacional/aula-8/code/image-events-exercise.ipynb#W1sZmlsZQ%3D%3D?line=39'>40</a>\u001b[0m cv2\u001b[39m.\u001b[39mdestroyAllWindows()\n",
      "\u001b[0;31mKeyboardInterrupt\u001b[0m: "
     ]
    }
   ],
   "source": [
    "import cv2\n",
    "import numpy as np\n",
    "\n",
    "# Variáveis para controle do desenho\n",
    "desenho = False  # Define se o desenho está ativo ou não\n",
    "ix, iy = -1, -1   # Coordenadas iniciais do retângulo\n",
    "\n",
    "# Função de callback para manipulação do mouse\n",
    "def retangulo(event, x, y, flags, params):\n",
    "    global ix, iy, desenho\n",
    "\n",
    "    # Verifica o tipo de evento do mouse\n",
    "    if event == cv2.EVENT_LBUTTONDOWN:  # Quando o botão esquerdo do mouse é pressionado\n",
    "        ix, iy = x, y  # Salva as coordenadas iniciais do retângulo\n",
    "        desenho = True  # Ativa o modo de desenho\n",
    "    elif event == cv2.EVENT_MOUSEMOVE:  # Quando o mouse está sendo movido\n",
    "        if desenho:  # Verifica se o desenho está ativo\n",
    "            # Desenha um retângulo preenchido branco nas coordenadas iniciais e atuais\n",
    "            cv2.rectangle(image, pt1=(ix, iy), pt2=(x, y), color=(255, 255, 255), thickness=-1)\n",
    "    elif event == cv2.EVENT_LBUTTONUP:  # Quando o botão esquerdo do mouse é solto\n",
    "        desenho = False  # Desativa o modo de desenho\n",
    "        # Desenha o retângulo final no local escolhido\n",
    "        cv2.rectangle(image, pt1=(ix, iy), pt2=(x, y), color=(255, 255, 255), thickness=-1)\n",
    "\n",
    "# Cria uma janela para exibir a imagem\n",
    "cv2.namedWindow(winname='myWindow')\n",
    "# Associa a função de callback à janela\n",
    "cv2.setMouseCallback('myWindow', retangulo)\n",
    "\n",
    "# Cria uma imagem em branco\n",
    "image = np.zeros((400, 400, 3), dtype=np.uint8)\n",
    "\n",
    "# Loop principal para exibir a imagem e aguardar a tecla 'Esc' ser pressionada para sair\n",
    "while True:\n",
    "    cv2.imshow('myWindow', image)\n",
    "\n",
    "    # Espera até que uma tecla seja pressionada e verifica se a tecla 'Esc' (código 27) foi pressionada\n",
    "    if cv2.waitKey(20) & 0xFF == 27:\n",
    "        break\n",
    "\n",
    "# Fecha a janela e libera recursos após sair do loop\n",
    "cv2.destroyAllWindows()"
   ]
  }
 ],
 "metadata": {
  "kernelspec": {
   "display_name": "virtual-environment",
   "language": "python",
   "name": "virtual-environment"
  },
  "language_info": {
   "codemirror_mode": {
    "name": "ipython",
    "version": 3
   },
   "file_extension": ".py",
   "mimetype": "text/x-python",
   "name": "python",
   "nbconvert_exporter": "python",
   "pygments_lexer": "ipython3",
   "version": "3.11.4"
  },
  "orig_nbformat": 4
 },
 "nbformat": 4,
 "nbformat_minor": 2
}
