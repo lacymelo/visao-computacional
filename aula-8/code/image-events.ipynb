{
 "cells": [
  {
   "cell_type": "code",
   "execution_count": 2,
   "metadata": {},
   "outputs": [],
   "source": [
    "import numpy as np\n",
    "import cv2"
   ]
  },
  {
   "cell_type": "code",
   "execution_count": 3,
   "metadata": {},
   "outputs": [
    {
     "data": {
      "text/plain": [
       "numpy.ndarray"
      ]
     },
     "execution_count": 3,
     "metadata": {},
     "output_type": "execute_result"
    }
   ],
   "source": [
    "# criando uma imagem\n",
    "image = np.zeros((1024,1024,3))\n",
    "\n",
    "type(image)"
   ]
  },
  {
   "cell_type": "code",
   "execution_count": 4,
   "metadata": {},
   "outputs": [],
   "source": [
    "# Função que desenha um círculo na imagem com base na interação do mouse.\n",
    "def circulo(event, x, y, flags, param):\n",
    "    # Verifica se ocorreu um clique com o botão esquerdo do mouse (LBUTTONDOWN).\n",
    "    if event == cv2.EVENT_LBUTTONDOWN:\n",
    "        # Desenha um círculo amarelo (cor: BGR = (0, 255, 255)) com raio 100 e espessura de linha 10.\n",
    "        cv2.circle(image, center=(x, y), radius=100, color=(0, 255, 255), thickness=10)\n",
    "    # Verifica se ocorreu um clique com o botão direito do mouse (RBUTTONDOWN).\n",
    "    elif event == cv2.EVENT_RBUTTONDOWN:\n",
    "        # Desenha um círculo preenchido em azul (cor: BGR = (255, 255, 0)) com raio 75.\n",
    "        cv2.circle(image, center=(x, y), radius=75, color=(255, 255, 0), thickness=-1)\n",
    "\n",
    "# Cria uma janela chamada 'myEvent'.\n",
    "cv2.namedWindow(winname='myEvent')\n",
    "\n",
    "# Vincula a função 'circulo' ao evento de mouse na janela 'myEvent'.\n",
    "cv2.setMouseCallback('myEvent', circulo)\n",
    "\n",
    "# Loop principal para exibir a imagem e aguardar a tecla 'Esc' ser pressionada ou 20 milissegundos passarem.\n",
    "while True:\n",
    "    cv2.imshow('myEvent', image)\n",
    "\n",
    "    # Espera até que uma tecla seja pressionada e verifica se a tecla 'Esc' (código 27) foi pressionada.\n",
    "    if cv2.waitKey(20) & 0xFF == 27:\n",
    "        break\n",
    "\n",
    "# Fecha a janela e libera recursos após sair do loop.\n",
    "cv2.destroyAllWindows()"
   ]
  }
 ],
 "metadata": {
  "kernelspec": {
   "display_name": "virtual-environment",
   "language": "python",
   "name": "virtual-environment"
  },
  "language_info": {
   "codemirror_mode": {
    "name": "ipython",
    "version": 3
   },
   "file_extension": ".py",
   "mimetype": "text/x-python",
   "name": "python",
   "nbconvert_exporter": "python",
   "pygments_lexer": "ipython3",
   "version": "3.11.4"
  },
  "orig_nbformat": 4
 },
 "nbformat": 4,
 "nbformat_minor": 2
}
