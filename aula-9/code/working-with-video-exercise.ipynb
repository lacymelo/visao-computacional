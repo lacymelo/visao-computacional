{
 "cells": [
  {
   "cell_type": "code",
   "execution_count": 1,
   "metadata": {},
   "outputs": [],
   "source": [
    "import cv2"
   ]
  },
  {
   "cell_type": "code",
   "execution_count": 2,
   "metadata": {},
   "outputs": [
    {
     "name": "stderr",
     "output_type": "stream",
     "text": [
      "OpenCV: FFMPEG: tag 0x44495658/'XVID' is not supported with codec id 12 and format 'mp4 / MP4 (MPEG-4 Part 14)'\n",
      "OpenCV: FFMPEG: fallback to use tag 0x7634706d/'mp4v'\n"
     ]
    }
   ],
   "source": [
    "# capturando a imagem da câmera\n",
    "captureImage = cv2.VideoCapture(0)\n",
    "\n",
    "# recuperando a altura do frame\n",
    "length = captureImage.get(cv2.CAP_PROP_FRAME_HEIGHT)\n",
    "\n",
    "# recuperando a largura do frame\n",
    "width = captureImage.get(cv2.CAP_PROP_FRAME_WIDTH)\n",
    "\n",
    "fourcc = cv2.VideoWriter_fourcc(*'XVID')\n",
    "\n",
    "# salvando o video\n",
    "saida = cv2.VideoWriter('../../save/video-gravado.mp4', fourcc, 15.0, (int(width), int(length)))\n",
    "\n",
    "# apresentação do frame\n",
    "while captureImage.isOpened():\n",
    "    # realiza leitura do frame, recuperando os parâmetro frame, e o boolean ret que indica se a \n",
    "    # leitura foi bem sucedida\n",
    "    ret, frame = captureImage.read()\n",
    "\n",
    "    if ret == True:\n",
    "        # girando a imagem\n",
    "        frame = cv2.flip(frame, -1)\n",
    "\n",
    "        # a saída será o frame\n",
    "        saida.write(frame)\n",
    "\n",
    "        cv2.imshow('frame', frame)\n",
    "\n",
    "        if cv2.waitKey(5) & 0xFF == 27:\n",
    "            break\n",
    "\n",
    "    else:\n",
    "        break\n",
    "\n",
    "# libera a câmera após a captura\n",
    "captureImage.release()\n",
    "\n",
    "# libera a saida\n",
    "saida.release()\n",
    "\n",
    "# destrói a janela\n",
    "cv2.destroyAllWindows()"
   ]
  },
  {
   "cell_type": "code",
   "execution_count": null,
   "metadata": {},
   "outputs": [],
   "source": []
  }
 ],
 "metadata": {
  "kernelspec": {
   "display_name": "virtual-environment",
   "language": "python",
   "name": "virtual-environment"
  },
  "language_info": {
   "codemirror_mode": {
    "name": "ipython",
    "version": 3
   },
   "file_extension": ".py",
   "mimetype": "text/x-python",
   "name": "python",
   "nbconvert_exporter": "python",
   "pygments_lexer": "ipython3",
   "version": "3.11.4"
  },
  "orig_nbformat": 4
 },
 "nbformat": 4,
 "nbformat_minor": 2
}
