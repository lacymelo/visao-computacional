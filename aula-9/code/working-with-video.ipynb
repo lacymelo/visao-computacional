{
 "cells": [
  {
   "cell_type": "code",
   "execution_count": 5,
   "metadata": {},
   "outputs": [],
   "source": [
    "import cv2"
   ]
  },
  {
   "cell_type": "code",
   "execution_count": 6,
   "metadata": {},
   "outputs": [],
   "source": [
    "# capturando a imagem da câmera\n",
    "captureImage = cv2.VideoCapture(0)\n",
    "\n",
    "# recuperando a largura do frame\n",
    "width = captureImage.get(cv2.CAP_PROP_FRAME_WIDTH)\n",
    "\n",
    "# recuperando a altura\n",
    "length = captureImage.get(cv2.CAP_PROP_FRAME_HEIGHT)\n",
    "\n",
    "while True:\n",
    "    # recuperando o frame da imagem\n",
    "    ret, frame = captureImage.read()\n",
    "\n",
    "    rgb = cv2.cvtColor(frame, cv2.COLOR_BGR2RGB)\n",
    "    # rgb = cv2.cvtColor(frame, cv2.COLOR_BGR2GRAY)\n",
    "    #  rgb = cv2.flip(frame, -1)\n",
    "\n",
    "    # mostrando o frame capturado\n",
    "    cv2.imshow('frame', rgb)\n",
    "\n",
    "    # se o usuário clicar em e, a janela é encerrada\n",
    "    if cv2.waitKey(10) & 0xFF == 27:\n",
    "        break\n",
    "\n",
    "# libera a câmera após a captura\n",
    "captureImage.release()\n",
    "\n",
    "# destrói a janela\n",
    "cv2.destroyAllWindows()"
   ]
  }
 ],
 "metadata": {
  "kernelspec": {
   "display_name": "virtual-environment",
   "language": "python",
   "name": "virtual-environment"
  },
  "language_info": {
   "codemirror_mode": {
    "name": "ipython",
    "version": 3
   },
   "file_extension": ".py",
   "mimetype": "text/x-python",
   "name": "python",
   "nbconvert_exporter": "python",
   "pygments_lexer": "ipython3",
   "version": "3.11.4"
  },
  "orig_nbformat": 4
 },
 "nbformat": 4,
 "nbformat_minor": 2
}
