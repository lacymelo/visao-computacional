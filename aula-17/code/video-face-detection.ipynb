{
 "cells": [
  {
   "cell_type": "markdown",
   "metadata": {},
   "source": [
    "Algoritmo de Viola-Jones com Haar Cascades"
   ]
  },
  {
   "cell_type": "code",
   "execution_count": 1,
   "metadata": {},
   "outputs": [],
   "source": [
    "import numpy as np\n",
    "import cv2\n",
    "import matplotlib.pyplot as plt\n",
    "%matplotlib inline"
   ]
  },
  {
   "cell_type": "code",
   "execution_count": 3,
   "metadata": {},
   "outputs": [],
   "source": [
    "# inicializando o algoritmo de reconhecimento de olhos\n",
    "eyeCascade = cv2.CascadeClassifier('../../lib/haarcascades/haarcascade_eye_tree_eyeglasses.xml')\n",
    "# inicializando o algoritmo de reconhecimento de face frontal\n",
    "faceCascade = cv2.CascadeClassifier('../../lib/haarcascades/haarcascade_frontalface_default.xml')"
   ]
  },
  {
   "cell_type": "code",
   "execution_count": 4,
   "metadata": {},
   "outputs": [],
   "source": [
    "# detecção do rosto\n",
    "def faceDetector(video):\n",
    "    global count\n",
    "    count = 0\n",
    "    # fazendo uma cópia da Video\n",
    "    faceVideo = video.copy()\n",
    "\n",
    "    # aplicando o algoritmo para detectar face\n",
    "    faceRectangle = faceCascade.detectMultiScale(image=faceVideo, scaleFactor=1.2, minNeighbors=4)\n",
    "\n",
    "    for (x,y,w,h) in faceRectangle:\n",
    "        # contabiliza o número de pessoas identificadas\n",
    "        count += 1\n",
    "        # inserindo o retângulo para identificar o rosto\n",
    "        cv2.rectangle(faceVideo, pt1=(x,y), pt2=(x+w, y+h), color=(255,0,0), thickness=2)\n",
    "\n",
    "        # Aplicando algoritmo para identificar olhos na região do rosto\n",
    "        roi = video[y:y+h, x:x+w]\n",
    "        eye_circles = eyeCascade.detectMultiScale(roi, scaleFactor=1.2, minNeighbors=4)\n",
    "\n",
    "        for (ex, ey, ew, eh) in eye_circles:\n",
    "            # Inserindo círculo nos olhos\n",
    "            cv2.circle(faceVideo, center=(x+ex+ew//2, y+ey+eh//2), radius=10, color=(0, 255, 0), thickness=2)\n",
    "\n",
    "\n",
    "    return faceVideo"
   ]
  },
  {
   "cell_type": "code",
   "execution_count": 5,
   "metadata": {},
   "outputs": [],
   "source": [
    "# capturando o video\n",
    "videoCapture = cv2.VideoCapture(0)"
   ]
  },
  {
   "cell_type": "code",
   "execution_count": 7,
   "metadata": {},
   "outputs": [],
   "source": [
    "# criar uma janela para o video\n",
    "cv2.namedWindow('window')"
   ]
  },
  {
   "cell_type": "code",
   "execution_count": 8,
   "metadata": {},
   "outputs": [],
   "source": [
    "while True:\n",
    "    # recuperando o frame e boolean de resposta da captura\n",
    "    ret, frame = videoCapture.read(0)\n",
    "\n",
    "    # aplicando a detecção de face no frame\n",
    "    frame = faceDetector(frame)\n",
    "\n",
    "    # desenhando no frame\n",
    "    cv2.imshow('window',  frame)\n",
    "\n",
    "    if cv2.waitKey(1) & 0xFF == 27:\n",
    "        break\n",
    "\n",
    "\n",
    "\n",
    "# liberando a câmera\n",
    "videoCapture.release()\n",
    "\n",
    "# destruindo a janela\n",
    "cv2.destroyAllWindows()"
   ]
  }
 ],
 "metadata": {
  "kernelspec": {
   "display_name": "virtual-environment",
   "language": "python",
   "name": "virtual-environment"
  },
  "language_info": {
   "codemirror_mode": {
    "name": "ipython",
    "version": 3
   },
   "file_extension": ".py",
   "mimetype": "text/x-python",
   "name": "python",
   "nbconvert_exporter": "python",
   "pygments_lexer": "ipython3",
   "version": "3.11.4"
  },
  "orig_nbformat": 4
 },
 "nbformat": 4,
 "nbformat_minor": 2
}
